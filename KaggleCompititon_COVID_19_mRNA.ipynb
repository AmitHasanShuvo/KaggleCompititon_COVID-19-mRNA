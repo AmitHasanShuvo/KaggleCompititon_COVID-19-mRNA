{
  "nbformat": 4,
  "nbformat_minor": 0,
  "metadata": {
    "kernelspec": {
      "name": "python3",
      "display_name": "Python 3",
      "language": "python"
    },
    "language_info": {
      "name": "python",
      "version": "3.7.6",
      "mimetype": "text/x-python",
      "codemirror_mode": {
        "name": "ipython",
        "version": 3
      },
      "pygments_lexer": "ipython3",
      "nbconvert_exporter": "python",
      "file_extension": ".py"
    },
    "colab": {
      "name": "KaggleCompititon_COVID-19 mRNA.ipynb",
      "provenance": [],
      "collapsed_sections": []
    }
  },
  "cells": [
    {
      "cell_type": "markdown",
      "metadata": {
        "id": "F0ngb51Lj4oy",
        "colab_type": "text"
      },
      "source": [
        "#OpenVaccine: COVID-19 mRNA Vaccine Degradation Prediction\n",
        "In this [competition](https://https://www.kaggle.com/c/stanford-covid-vaccine/overview), you will be predicting the degradation rates at various locations along RNA sequence.\n",
        "\n",
        "There are multiple ground truth values provided in the training data. "
      ]
    },
    {
      "cell_type": "code",
      "metadata": {
        "_uuid": "8f2839f25d086af736a60e9eeb907d3b93b6e0e5",
        "_cell_guid": "b1076dfc-b9ad-4769-8c92-a6c4dae69d19",
        "trusted": true,
        "id": "MA8shcVUjolk",
        "colab_type": "code",
        "colab": {}
      },
      "source": [
        "# This Python 3 environment comes with many helpful analytics libraries installed\n",
        "# It is defined by the kaggle/python Docker image: https://github.com/kaggle/docker-python\n",
        "# For example, here's several helpful packages to load\n",
        "\n",
        "import numpy as np # linear algebra\n",
        "import pandas as pd # data processing, CSV file I/O (e.g. pd.read_csv)\n",
        "\n",
        "# Input data files are available in the read-only \"../input/\" directory\n",
        "# For example, running this (by clicking run or pressing Shift+Enter) will list all files under the input directory\n",
        "\n",
        "import os\n",
        "for dirname, _, filenames in os.walk('/kaggle/input'):\n",
        "    for filename in filenames:\n",
        "        print(os.path.join(dirname, filename))"
      ],
      "execution_count": null,
      "outputs": []
    },
    {
      "cell_type": "markdown",
      "metadata": {
        "id": "lzz6nSm0kaGs",
        "colab_type": "text"
      },
      "source": [
        "# Library Required"
      ]
    },
    {
      "cell_type": "code",
      "metadata": {
        "trusted": true,
        "id": "OskCggfdjolp",
        "colab_type": "code",
        "colab": {}
      },
      "source": [
        "import tensorflow as tf\n",
        "from tensorflow.keras.models import Sequential\n",
        "from tensorflow.keras.layers import Dense, LSTM, Bidirectional,Embedding,Dropout, GRU\n",
        "from tensorflow.keras.callbacks import ModelCheckpoint\n",
        "import plotly.express as px\n"
      ],
      "execution_count": null,
      "outputs": []
    },
    {
      "cell_type": "markdown",
      "metadata": {
        "id": "S6qZDQsRkhKW",
        "colab_type": "text"
      },
      "source": [
        "#The dataset\n",
        "The mRNA vaccine degradation [dataset](https://https://www.kaggle.com/c/stanford-covid-vaccine/data) includes train and test.json files.\n",
        "We will predict the degradation rate based on these three features:\n",
        "['sequence', 'structure', 'predicted_loop_type']. All of these features are text (i.e. sequence of characters).\n",
        "\n",
        "Also, the dataset includes two columns indicate the qulaity of observiations:['signal_to_noise', 'SN_filter']. We will filter the three features based on these two filters columns.\n",
        "\n",
        "From the data description in Kaggle, the targets are:['reactivity', 'deg_Mg_pH10', 'deg_pH10', 'deg_Mg_50C', 'deg_50C'].\n",
        "\n",
        "Now we know our features and our target, let us start process the data then build the model."
      ]
    },
    {
      "cell_type": "code",
      "metadata": {
        "trusted": true,
        "id": "52jkz2HXjols",
        "colab_type": "code",
        "colab": {},
        "outputId": "d40addde-924f-4403-b1c7-784d20edf5c0"
      },
      "source": [
        "#get comp data\n",
        "train = pd.read_json('/kaggle/input/stanford-covid-vaccine/train.json', lines=True)\n",
        "test = pd.read_json('/kaggle/input/stanford-covid-vaccine/test.json', lines=True)\n",
        "test.head(2)"
      ],
      "execution_count": null,
      "outputs": [
        {
          "output_type": "execute_result",
          "data": {
            "text/plain": [
              "   index            id                                           sequence  \\\n",
              "0      0  id_00073f8be  GGAAAAGUACGACUUGAGUACGGAAAACGUACCAACUCGAUUAAAA...   \n",
              "1      1  id_000ae4237  GGAAACGGGUUCCGCGGAUUGCUGCUAAUAAGAGUAAUCUCUAAAU...   \n",
              "\n",
              "                                           structure  \\\n",
              "0  ......((((((((((.(((((.....))))))))((((((((......   \n",
              "1  .....((((..((((((...(((((.....((((....)))).......   \n",
              "\n",
              "                                 predicted_loop_type  seq_length  seq_scored  \n",
              "0  EEEEEESSSSSSSSSSBSSSSSHHHHHSSSSSSSSSSSSSSSSHHH...         107          68  \n",
              "1  EEEEESSSSIISSSSSSIIISSSSSIIIIISSSSHHHHSSSSIIII...         130          91  "
            ],
            "text/html": [
              "<div>\n",
              "<style scoped>\n",
              "    .dataframe tbody tr th:only-of-type {\n",
              "        vertical-align: middle;\n",
              "    }\n",
              "\n",
              "    .dataframe tbody tr th {\n",
              "        vertical-align: top;\n",
              "    }\n",
              "\n",
              "    .dataframe thead th {\n",
              "        text-align: right;\n",
              "    }\n",
              "</style>\n",
              "<table border=\"1\" class=\"dataframe\">\n",
              "  <thead>\n",
              "    <tr style=\"text-align: right;\">\n",
              "      <th></th>\n",
              "      <th>index</th>\n",
              "      <th>id</th>\n",
              "      <th>sequence</th>\n",
              "      <th>structure</th>\n",
              "      <th>predicted_loop_type</th>\n",
              "      <th>seq_length</th>\n",
              "      <th>seq_scored</th>\n",
              "    </tr>\n",
              "  </thead>\n",
              "  <tbody>\n",
              "    <tr>\n",
              "      <th>0</th>\n",
              "      <td>0</td>\n",
              "      <td>id_00073f8be</td>\n",
              "      <td>GGAAAAGUACGACUUGAGUACGGAAAACGUACCAACUCGAUUAAAA...</td>\n",
              "      <td>......((((((((((.(((((.....))))))))((((((((......</td>\n",
              "      <td>EEEEEESSSSSSSSSSBSSSSSHHHHHSSSSSSSSSSSSSSSSHHH...</td>\n",
              "      <td>107</td>\n",
              "      <td>68</td>\n",
              "    </tr>\n",
              "    <tr>\n",
              "      <th>1</th>\n",
              "      <td>1</td>\n",
              "      <td>id_000ae4237</td>\n",
              "      <td>GGAAACGGGUUCCGCGGAUUGCUGCUAAUAAGAGUAAUCUCUAAAU...</td>\n",
              "      <td>.....((((..((((((...(((((.....((((....)))).......</td>\n",
              "      <td>EEEEESSSSIISSSSSSIIISSSSSIIIIISSSSHHHHSSSSIIII...</td>\n",
              "      <td>130</td>\n",
              "      <td>91</td>\n",
              "    </tr>\n",
              "  </tbody>\n",
              "</table>\n",
              "</div>"
            ]
          },
          "metadata": {
            "tags": []
          },
          "execution_count": 3
        }
      ]
    },
    {
      "cell_type": "code",
      "metadata": {
        "_uuid": "d629ff2d2480ee46fbb7e2d37f6b5fab8052498a",
        "_cell_guid": "79c7e3d0-c299-4dcb-8224-4455121ee9b0",
        "trusted": true,
        "id": "Vqagxjfjjolw",
        "colab_type": "code",
        "colab": {},
        "outputId": "b80c0fde-c371-474f-cacf-50d3527c2b69"
      },
      "source": [
        "# dataset columns\n",
        "print(train.columns)"
      ],
      "execution_count": null,
      "outputs": [
        {
          "output_type": "stream",
          "text": [
            "Index(['index', 'id', 'sequence', 'structure', 'predicted_loop_type',\n",
            "       'signal_to_noise', 'SN_filter', 'seq_length', 'seq_scored',\n",
            "       'reactivity_error', 'deg_error_Mg_pH10', 'deg_error_pH10',\n",
            "       'deg_error_Mg_50C', 'deg_error_50C', 'reactivity', 'deg_Mg_pH10',\n",
            "       'deg_pH10', 'deg_Mg_50C', 'deg_50C'],\n",
            "      dtype='object')\n"
          ],
          "name": "stdout"
        }
      ]
    },
    {
      "cell_type": "code",
      "metadata": {
        "trusted": true,
        "id": "baL8lj6Ajolz",
        "colab_type": "code",
        "colab": {},
        "outputId": "48d4c739-9cdd-4f52-c203-0b792b54fab9"
      },
      "source": [
        "# one of the target sequence length\n",
        "len(train['reactivity'].values[0])"
      ],
      "execution_count": null,
      "outputs": [
        {
          "output_type": "execute_result",
          "data": {
            "text/plain": [
              "68"
            ]
          },
          "metadata": {
            "tags": []
          },
          "execution_count": 5
        }
      ]
    },
    {
      "cell_type": "code",
      "metadata": {
        "trusted": true,
        "id": "FzWlMrYMjol2",
        "colab_type": "code",
        "colab": {},
        "outputId": "7427a5b1-678a-4ee3-fe0c-84a01dd15417"
      },
      "source": [
        "# one of the features sequence length\n",
        "len(train['sequence'].values[0])"
      ],
      "execution_count": null,
      "outputs": [
        {
          "output_type": "execute_result",
          "data": {
            "text/plain": [
              "107"
            ]
          },
          "metadata": {
            "tags": []
          },
          "execution_count": 6
        }
      ]
    },
    {
      "cell_type": "code",
      "metadata": {
        "trusted": true,
        "id": "Ry6Po2Oyjol4",
        "colab_type": "code",
        "colab": {},
        "outputId": "d471270e-121d-4d1b-f309-f76d79dbba5a"
      },
      "source": [
        "# check the filter columns\n",
        "train['SN_filter'].value_counts()"
      ],
      "execution_count": null,
      "outputs": [
        {
          "output_type": "execute_result",
          "data": {
            "text/plain": [
              "1    1589\n",
              "0     811\n",
              "Name: SN_filter, dtype: int64"
            ]
          },
          "metadata": {
            "tags": []
          },
          "execution_count": 7
        }
      ]
    },
    {
      "cell_type": "code",
      "metadata": {
        "trusted": true,
        "id": "4L8aTbmXjol9",
        "colab_type": "code",
        "colab": {}
      },
      "source": [
        "# we can filter either with 'SN_filter'=1 or with 'signal_to_noise'>1\n",
        "# filt = train['SN_filter']==1\n",
        "# df = train.loc[filt]\n",
        "# df.head(2)"
      ],
      "execution_count": null,
      "outputs": []
    },
    {
      "cell_type": "code",
      "metadata": {
        "trusted": true,
        "id": "WTl7N5N9jomC",
        "colab_type": "code",
        "colab": {},
        "outputId": "12153fbf-4794-4370-8634-e47399dc203a"
      },
      "source": [
        "# df is our filtered train dataset\n",
        "filt = train['signal_to_noise']>1\n",
        "df = train.loc[filt]\n",
        "df.head(2)"
      ],
      "execution_count": null,
      "outputs": [
        {
          "output_type": "execute_result",
          "data": {
            "text/plain": [
              "   index            id                                           sequence  \\\n",
              "0      0  id_001f94081  GGAAAAGCUCUAAUAACAGGAGACUAGGACUACGUAUUUCUAGGUA...   \n",
              "2      2  id_006f36f57  GGAAAGUGCUCAGAUAAGCUAAGCUCGAAUAGCAAUCGAAUAGAAU...   \n",
              "\n",
              "                                           structure  \\\n",
              "0  .....((((((.......)))).)).((.....((..((((((......   \n",
              "2  .....((((.((.....((((.(((.....)))..((((......)...   \n",
              "\n",
              "                                 predicted_loop_type  signal_to_noise  \\\n",
              "0  EEEEESSSSSSHHHHHHHSSSSBSSXSSIIIIISSIISSSSSSHHH...            6.894   \n",
              "2  EEEEESSSSISSIIIIISSSSMSSSHHHHHSSSMMSSSSHHHHHHS...            8.800   \n",
              "\n",
              "   SN_filter  seq_length  seq_scored  \\\n",
              "0          1         107          68   \n",
              "2          1         107          68   \n",
              "\n",
              "                                    reactivity_error  \\\n",
              "0  [0.1359, 0.20700000000000002, 0.1633, 0.1452, ...   \n",
              "2  [0.0931, 0.13290000000000002, 0.11280000000000...   \n",
              "\n",
              "                                   deg_error_Mg_pH10  \\\n",
              "0  [0.26130000000000003, 0.38420000000000004, 0.1...   \n",
              "2  [0.1365, 0.2237, 0.1812, 0.1333, 0.1148, 0.160...   \n",
              "\n",
              "                                      deg_error_pH10  \\\n",
              "0  [0.2631, 0.28600000000000003, 0.0964, 0.1574, ...   \n",
              "2  [0.17020000000000002, 0.178, 0.111, 0.091, 0.0...   \n",
              "\n",
              "                                    deg_error_Mg_50C  \\\n",
              "0  [0.1501, 0.275, 0.0947, 0.18660000000000002, 0...   \n",
              "2  [0.1033, 0.1464, 0.1126, 0.09620000000000001, ...   \n",
              "\n",
              "                                       deg_error_50C  \\\n",
              "0  [0.2167, 0.34750000000000003, 0.188, 0.2124, 0...   \n",
              "2  [0.14980000000000002, 0.1761, 0.1517, 0.116700...   \n",
              "\n",
              "                                          reactivity  \\\n",
              "0  [0.3297, 1.5693000000000001, 1.1227, 0.8686, 0...   \n",
              "2  [0.44820000000000004, 1.4822, 1.1819, 0.743400...   \n",
              "\n",
              "                                         deg_Mg_pH10  \\\n",
              "0  [0.7556, 2.983, 0.2526, 1.3789, 0.637600000000...   \n",
              "2  [0.2504, 1.4021, 0.9804, 0.49670000000000003, ...   \n",
              "\n",
              "                                            deg_pH10  \\\n",
              "0  [2.3375, 3.5060000000000002, 0.3008, 1.0108, 0...   \n",
              "2  [2.243, 2.9361, 1.0553, 0.721, 0.6396000000000...   \n",
              "\n",
              "                                          deg_Mg_50C  \\\n",
              "0  [0.35810000000000003, 2.9683, 0.2589, 1.4552, ...   \n",
              "2  [0.5163, 1.6823000000000001, 1.0426, 0.7902, 0...   \n",
              "\n",
              "                                             deg_50C  \n",
              "0  [0.6382, 3.4773, 0.9988, 1.3228, 0.78770000000...  \n",
              "2  [0.9501000000000001, 1.7974999999999999, 1.499...  "
            ],
            "text/html": [
              "<div>\n",
              "<style scoped>\n",
              "    .dataframe tbody tr th:only-of-type {\n",
              "        vertical-align: middle;\n",
              "    }\n",
              "\n",
              "    .dataframe tbody tr th {\n",
              "        vertical-align: top;\n",
              "    }\n",
              "\n",
              "    .dataframe thead th {\n",
              "        text-align: right;\n",
              "    }\n",
              "</style>\n",
              "<table border=\"1\" class=\"dataframe\">\n",
              "  <thead>\n",
              "    <tr style=\"text-align: right;\">\n",
              "      <th></th>\n",
              "      <th>index</th>\n",
              "      <th>id</th>\n",
              "      <th>sequence</th>\n",
              "      <th>structure</th>\n",
              "      <th>predicted_loop_type</th>\n",
              "      <th>signal_to_noise</th>\n",
              "      <th>SN_filter</th>\n",
              "      <th>seq_length</th>\n",
              "      <th>seq_scored</th>\n",
              "      <th>reactivity_error</th>\n",
              "      <th>deg_error_Mg_pH10</th>\n",
              "      <th>deg_error_pH10</th>\n",
              "      <th>deg_error_Mg_50C</th>\n",
              "      <th>deg_error_50C</th>\n",
              "      <th>reactivity</th>\n",
              "      <th>deg_Mg_pH10</th>\n",
              "      <th>deg_pH10</th>\n",
              "      <th>deg_Mg_50C</th>\n",
              "      <th>deg_50C</th>\n",
              "    </tr>\n",
              "  </thead>\n",
              "  <tbody>\n",
              "    <tr>\n",
              "      <th>0</th>\n",
              "      <td>0</td>\n",
              "      <td>id_001f94081</td>\n",
              "      <td>GGAAAAGCUCUAAUAACAGGAGACUAGGACUACGUAUUUCUAGGUA...</td>\n",
              "      <td>.....((((((.......)))).)).((.....((..((((((......</td>\n",
              "      <td>EEEEESSSSSSHHHHHHHSSSSBSSXSSIIIIISSIISSSSSSHHH...</td>\n",
              "      <td>6.894</td>\n",
              "      <td>1</td>\n",
              "      <td>107</td>\n",
              "      <td>68</td>\n",
              "      <td>[0.1359, 0.20700000000000002, 0.1633, 0.1452, ...</td>\n",
              "      <td>[0.26130000000000003, 0.38420000000000004, 0.1...</td>\n",
              "      <td>[0.2631, 0.28600000000000003, 0.0964, 0.1574, ...</td>\n",
              "      <td>[0.1501, 0.275, 0.0947, 0.18660000000000002, 0...</td>\n",
              "      <td>[0.2167, 0.34750000000000003, 0.188, 0.2124, 0...</td>\n",
              "      <td>[0.3297, 1.5693000000000001, 1.1227, 0.8686, 0...</td>\n",
              "      <td>[0.7556, 2.983, 0.2526, 1.3789, 0.637600000000...</td>\n",
              "      <td>[2.3375, 3.5060000000000002, 0.3008, 1.0108, 0...</td>\n",
              "      <td>[0.35810000000000003, 2.9683, 0.2589, 1.4552, ...</td>\n",
              "      <td>[0.6382, 3.4773, 0.9988, 1.3228, 0.78770000000...</td>\n",
              "    </tr>\n",
              "    <tr>\n",
              "      <th>2</th>\n",
              "      <td>2</td>\n",
              "      <td>id_006f36f57</td>\n",
              "      <td>GGAAAGUGCUCAGAUAAGCUAAGCUCGAAUAGCAAUCGAAUAGAAU...</td>\n",
              "      <td>.....((((.((.....((((.(((.....)))..((((......)...</td>\n",
              "      <td>EEEEESSSSISSIIIIISSSSMSSSHHHHHSSSMMSSSSHHHHHHS...</td>\n",
              "      <td>8.800</td>\n",
              "      <td>1</td>\n",
              "      <td>107</td>\n",
              "      <td>68</td>\n",
              "      <td>[0.0931, 0.13290000000000002, 0.11280000000000...</td>\n",
              "      <td>[0.1365, 0.2237, 0.1812, 0.1333, 0.1148, 0.160...</td>\n",
              "      <td>[0.17020000000000002, 0.178, 0.111, 0.091, 0.0...</td>\n",
              "      <td>[0.1033, 0.1464, 0.1126, 0.09620000000000001, ...</td>\n",
              "      <td>[0.14980000000000002, 0.1761, 0.1517, 0.116700...</td>\n",
              "      <td>[0.44820000000000004, 1.4822, 1.1819, 0.743400...</td>\n",
              "      <td>[0.2504, 1.4021, 0.9804, 0.49670000000000003, ...</td>\n",
              "      <td>[2.243, 2.9361, 1.0553, 0.721, 0.6396000000000...</td>\n",
              "      <td>[0.5163, 1.6823000000000001, 1.0426, 0.7902, 0...</td>\n",
              "      <td>[0.9501000000000001, 1.7974999999999999, 1.499...</td>\n",
              "    </tr>\n",
              "  </tbody>\n",
              "</table>\n",
              "</div>"
            ]
          },
          "metadata": {
            "tags": []
          },
          "execution_count": 9
        }
      ]
    },
    {
      "cell_type": "code",
      "metadata": {
        "trusted": true,
        "id": "uY5EYaVcjomH",
        "colab_type": "code",
        "colab": {}
      },
      "source": [
        "# these counters to check the sequences we have\n",
        "# what characters they have?, how many for each one of them\n",
        "from collections import Counter\n",
        "RNA_c = Counter()\n",
        "RNA_c2 = Counter()\n",
        "RNA_c3 = Counter()"
      ],
      "execution_count": null,
      "outputs": []
    },
    {
      "cell_type": "code",
      "metadata": {
        "trusted": true,
        "id": "dybgBnhXjomJ",
        "colab_type": "code",
        "colab": {}
      },
      "source": [
        "u = [RNA_c.update(x) for i in range(len(df['sequence'])) for x in df['sequence'].values[i]]\n",
        "u = [RNA_c2.update(x) for i in range(len(df['predicted_loop_type'])) for x in df['predicted_loop_type'].values[i]]\n",
        "u = [RNA_c3.update(x) for i in range(len(df['structure'])) for x in df['structure'].values[i]]"
      ],
      "execution_count": null,
      "outputs": []
    },
    {
      "cell_type": "code",
      "metadata": {
        "trusted": true,
        "id": "_GwVQpexjomR",
        "colab_type": "code",
        "colab": {},
        "outputId": "6e140d5b-5519-4bc9-e0f3-207a4b5082c6"
      },
      "source": [
        "RNA_c.items()"
      ],
      "execution_count": null,
      "outputs": [
        {
          "output_type": "execute_result",
          "data": {
            "text/plain": [
              "dict_items([('G', 52500), ('A', 89265), ('C', 47449), ('U', 35058)])"
            ]
          },
          "metadata": {
            "tags": []
          },
          "execution_count": 14
        }
      ]
    },
    {
      "cell_type": "code",
      "metadata": {
        "trusted": true,
        "id": "EF62AWmrjomW",
        "colab_type": "code",
        "colab": {},
        "outputId": "5515afc7-56da-4039-b983-a65e32a79eab"
      },
      "source": [
        "RNA_c2.items()"
      ],
      "execution_count": null,
      "outputs": [
        {
          "output_type": "execute_result",
          "data": {
            "text/plain": [
              "dict_items([('E', 70445), ('S', 99990), ('H', 26118), ('B', 2885), ('X', 7471), ('I', 11778), ('M', 5585)])"
            ]
          },
          "metadata": {
            "tags": []
          },
          "execution_count": 15
        }
      ]
    },
    {
      "cell_type": "code",
      "metadata": {
        "trusted": true,
        "id": "tD4MLrLNjomZ",
        "colab_type": "code",
        "colab": {},
        "outputId": "393da8ac-2cc8-4bc1-db14-5a8ab7e6b694"
      },
      "source": [
        "RNA_c3.items()"
      ],
      "execution_count": null,
      "outputs": [
        {
          "output_type": "execute_result",
          "data": {
            "text/plain": [
              "dict_items([('.', 124282), ('(', 49995), (')', 49995)])"
            ]
          },
          "metadata": {
            "tags": []
          },
          "execution_count": 16
        }
      ]
    },
    {
      "cell_type": "code",
      "metadata": {
        "trusted": true,
        "id": "bp7lW5-hjomb",
        "colab_type": "code",
        "colab": {}
      },
      "source": [
        "# this dict to convert the characters to numbers so we can use it in the model \n",
        "token2int = {x:i for i, x in enumerate('().GACUESHBXIM')}"
      ],
      "execution_count": null,
      "outputs": []
    },
    {
      "cell_type": "code",
      "metadata": {
        "trusted": true,
        "id": "-6iBKnIXjome",
        "colab_type": "code",
        "colab": {},
        "outputId": "e069c86a-ba3b-4dd4-9dcb-7ec7f910c12d"
      },
      "source": [
        "token2int"
      ],
      "execution_count": null,
      "outputs": [
        {
          "output_type": "execute_result",
          "data": {
            "text/plain": [
              "{'(': 0,\n",
              " ')': 1,\n",
              " '.': 2,\n",
              " 'G': 3,\n",
              " 'A': 4,\n",
              " 'C': 5,\n",
              " 'U': 6,\n",
              " 'E': 7,\n",
              " 'S': 8,\n",
              " 'H': 9,\n",
              " 'B': 10,\n",
              " 'X': 11,\n",
              " 'I': 12,\n",
              " 'M': 13}"
            ]
          },
          "metadata": {
            "tags": []
          },
          "execution_count": 18
        }
      ]
    },
    {
      "cell_type": "code",
      "metadata": {
        "trusted": true,
        "id": "YY5w1Sb6jomh",
        "colab_type": "code",
        "colab": {}
      },
      "source": [
        "# this function to process a given sequence and it returns numpy array in the correct shape\n",
        "# this function takes a seq_length as argument so we can determine how much length we would like to use in the training\n",
        "def process_data(seqs, seg_length=68, inputt =True):\n",
        "    print(len(seqs))\n",
        "    print(len(seqs[0]))\n",
        "\n",
        "  # check if it is input, if not then it is output\n",
        "  # the input needs to be converted while the output not as the output is numbers\n",
        "    if(inputt):\n",
        "        l= [[token2int[x] for x in seqs[i][:seg_length]] for i in range(len(seqs))]\n",
        "    else:\n",
        "        l= [[x for x in seqs[i]] for i in range(len(seqs))]\n",
        "  \n",
        "    # to put the processed sequences with the correct shape (#samples, length of sequence, #features)\n",
        "    l = np.array(l).reshape(len(l),len(l[0]),1)\n",
        "    print(l.shape)\n",
        "    return l\n"
      ],
      "execution_count": null,
      "outputs": []
    },
    {
      "cell_type": "code",
      "metadata": {
        "trusted": true,
        "id": "j2qDWVmpjomn",
        "colab_type": "code",
        "colab": {},
        "outputId": "895cf089-230a-42f1-9745-851027ffc3ec"
      },
      "source": [
        "# convert the three features to number with correct shape\n",
        "seqdata = process_data(df['sequence'].values, 107)\n",
        "loopdata = process_data(df['predicted_loop_type'].values, 107)\n",
        "strucdata = process_data(df['structure'].values, 107)"
      ],
      "execution_count": null,
      "outputs": [
        {
          "output_type": "stream",
          "text": [
            "2096\n",
            "107\n",
            "(2096, 107, 1)\n",
            "2096\n",
            "107\n",
            "(2096, 107, 1)\n",
            "2096\n",
            "107\n",
            "(2096, 107, 1)\n"
          ],
          "name": "stdout"
        }
      ]
    },
    {
      "cell_type": "code",
      "metadata": {
        "trusted": true,
        "id": "Q0pyB-sujomq",
        "colab_type": "code",
        "colab": {},
        "outputId": "68f04121-47d0-4f2f-a758-4bf411c92dac"
      },
      "source": [
        "# combine the three features togather so we can use them as input to our model\n",
        "input_data = np.concatenate((seqdata,loopdata,strucdata),axis=2)\n",
        "input_data.shape"
      ],
      "execution_count": null,
      "outputs": [
        {
          "output_type": "execute_result",
          "data": {
            "text/plain": [
              "(2096, 107, 3)"
            ]
          },
          "metadata": {
            "tags": []
          },
          "execution_count": 22
        }
      ]
    },
    {
      "cell_type": "code",
      "metadata": {
        "trusted": true,
        "id": "KXOnGaVdjoms",
        "colab_type": "code",
        "colab": {}
      },
      "source": [
        "#target columns\n",
        "target_cols = ['reactivity', 'deg_Mg_pH10', 'deg_pH10', 'deg_Mg_50C', 'deg_50C']"
      ],
      "execution_count": null,
      "outputs": []
    },
    {
      "cell_type": "code",
      "metadata": {
        "trusted": true,
        "id": "uj53QP5tjomu",
        "colab_type": "code",
        "colab": {},
        "outputId": "2653c621-848b-49c5-b37f-66cd5cc8b65c"
      },
      "source": [
        "# convert the targets to the correct format and shape\n",
        "reactivity_data = process_data(df['reactivity'].values,68, inputt=False)\n",
        "Mg_pH10_data = process_data(df['deg_Mg_pH10'].values,68, inputt=False)\n",
        "pH10_data = process_data(df['deg_pH10'].values,68, inputt=False)\n",
        "Mg_50C_data = process_data(df['deg_Mg_50C'].values, 68,inputt=False)\n",
        "deg_50C_data = process_data(df['deg_50C'].values,68, inputt=False)\n"
      ],
      "execution_count": null,
      "outputs": [
        {
          "output_type": "stream",
          "text": [
            "2096\n",
            "68\n",
            "(2096, 68, 1)\n",
            "2096\n",
            "68\n",
            "(2096, 68, 1)\n",
            "2096\n",
            "68\n",
            "(2096, 68, 1)\n",
            "2096\n",
            "68\n",
            "(2096, 68, 1)\n",
            "2096\n",
            "68\n",
            "(2096, 68, 1)\n"
          ],
          "name": "stdout"
        }
      ]
    },
    {
      "cell_type": "code",
      "metadata": {
        "trusted": true,
        "id": "NV8Tajl8jomy",
        "colab_type": "code",
        "colab": {},
        "outputId": "79885fc3-188e-4aab-dfab-67c0b93f75c9"
      },
      "source": [
        "# combine the targets togather so we can use them as output to the model\n",
        "output_data = np.concatenate((reactivity_data,Mg_pH10_data,pH10_data,Mg_50C_data,deg_50C_data),axis=2)\n",
        "output_data.shape"
      ],
      "execution_count": null,
      "outputs": [
        {
          "output_type": "execute_result",
          "data": {
            "text/plain": [
              "(2096, 68, 5)"
            ]
          },
          "metadata": {
            "tags": []
          },
          "execution_count": 25
        }
      ]
    },
    {
      "cell_type": "markdown",
      "metadata": {
        "id": "ASnQIZMBpWZ-",
        "colab_type": "text"
      },
      "source": [
        "#The model\n",
        "I have tried many different models in this competition. It is worth to notice that our output length is 68 (degradation rates) and the input length is 107 characters, this means we have degradation rates for the first 68 characters of the features. Therefore, we need to truncate everything in the model output after the 68 timestep, so we can match the output 68 degradation rate to the output of the model.\n",
        "\n",
        "Something else to notice, the test set has  two length of the features, the first is 107 as same as the train set and this called public test set. The second is private testset and it has 130 features length, so we need to train on 107 and before the test we rebuild the model for the public and private test set length and load the weights."
      ]
    },
    {
      "cell_type": "code",
      "metadata": {
        "trusted": true,
        "id": "eeHy8dvWjom8",
        "colab_type": "code",
        "colab": {}
      },
      "source": [
        "# def build_mode(inputLength, pred_length):\n",
        "#     inputs = tf.keras.Input(shape=(inputLength,3))\n",
        "#     lstm_output = Bidirectional(LSTM(64,return_sequences=True))(inputs)\n",
        "#     lstm_output = lstm_output[:,:pred_length]\n",
        "#     dense_output = Dense(5, activation='linear')(lstm_output)\n",
        "#     model = tf.keras.Model(inputs, dense_output)\n",
        "#     return model"
      ],
      "execution_count": null,
      "outputs": []
    },
    {
      "cell_type": "code",
      "metadata": {
        "trusted": true,
        "id": "1lv68vIojom-",
        "colab_type": "code",
        "colab": {}
      },
      "source": [
        "def build_mode(inputLength, pred_length):\n",
        "    inputs = tf.keras.Input(shape=(inputLength,3))\n",
        "    embd = Embedding(input_dim=14,output_dim=100)(inputs)\n",
        "    embd = tf.reshape(embd, shape=(-1,embd.shape[1], embd.shape[2]*embd.shape[3]))\n",
        "    lstm_output = Bidirectional(LSTM(64,return_sequences=True))(embd)\n",
        "    lstm_output = lstm_output[:,:pred_length]\n",
        "    dense_output = Dense(5, activation='linear')(lstm_output)\n",
        "    model = tf.keras.Model(inputs, dense_output)\n",
        "    return model\n"
      ],
      "execution_count": null,
      "outputs": []
    },
    {
      "cell_type": "code",
      "metadata": {
        "trusted": true,
        "id": "nTgaCwWbjonB",
        "colab_type": "code",
        "colab": {}
      },
      "source": [
        "# def build_mode(inputLength, pred_length):\n",
        "#     inputs = tf.keras.Input(shape=(inputLength,3))\n",
        "#     embd = Embedding(input_dim=30,output_dim=100)(inputs)\n",
        "#     embd = tf.reshape(embd, shape=(-1,embd.shape[1], embd.shape[2]*embd.shape[3]))\n",
        "#     lstm1_output = Bidirectional(LSTM(128,return_sequences=True))(embd)\n",
        "#     lstm2_output = Bidirectional(LSTM(128,return_sequences=True))(lstm1_output)\n",
        "#     lstm_output = lstm2_output[:,:pred_length]\n",
        "#     dense_output = Dense(5, activation='linear')(lstm_output)\n",
        "#     model = tf.keras.Model(inputs, dense_output)\n",
        "#     return model\n"
      ],
      "execution_count": null,
      "outputs": []
    },
    {
      "cell_type": "code",
      "metadata": {
        "trusted": true,
        "id": "UnWiGtGnjonE",
        "colab_type": "code",
        "colab": {},
        "outputId": "47e0ca26-a290-4863-a6aa-5a48d7c0b3a3"
      },
      "source": [
        "# build model takes input 68 characters and predict 68 degradation rates\n",
        "# model = build_mode(68, 68)\n",
        "\n",
        "# build model takes input 107 characters and predict 68 degradation rates\n",
        "model = build_mode(107, 68)\n",
        "\n",
        "model.summary()"
      ],
      "execution_count": null,
      "outputs": [
        {
          "output_type": "stream",
          "text": [
            "Model: \"functional_3\"\n",
            "_________________________________________________________________\n",
            "Layer (type)                 Output Shape              Param #   \n",
            "=================================================================\n",
            "input_2 (InputLayer)         [(None, 107, 3)]          0         \n",
            "_________________________________________________________________\n",
            "embedding_1 (Embedding)      (None, 107, 3, 100)       1400      \n",
            "_________________________________________________________________\n",
            "tf_op_layer_Reshape_1 (Tenso [(None, 107, 300)]        0         \n",
            "_________________________________________________________________\n",
            "bidirectional_1 (Bidirection (None, 107, 128)          186880    \n",
            "_________________________________________________________________\n",
            "tf_op_layer_strided_slice_1  [(None, 68, 128)]         0         \n",
            "_________________________________________________________________\n",
            "dense_1 (Dense)              (None, 68, 5)             645       \n",
            "=================================================================\n",
            "Total params: 188,925\n",
            "Trainable params: 188,925\n",
            "Non-trainable params: 0\n",
            "_________________________________________________________________\n"
          ],
          "name": "stdout"
        }
      ]
    },
    {
      "cell_type": "code",
      "metadata": {
        "trusted": true,
        "id": "c2vEHxZ9jonG",
        "colab_type": "code",
        "colab": {}
      },
      "source": [
        "model.compile(loss='mse', optimizer='adam', metrics=['acc'])"
      ],
      "execution_count": null,
      "outputs": []
    },
    {
      "cell_type": "code",
      "metadata": {
        "trusted": true,
        "id": "TAQc82XcjonJ",
        "colab_type": "code",
        "colab": {}
      },
      "source": [
        "# to return the best weights of the model with less loss values.\n",
        "def mcp_save():\n",
        "  filepath= \"weights.best.hdf5\"\n",
        "  return ModelCheckpoint(filepath, save_best_only=True, monitor='loss', mode='min', verbose=0)"
      ],
      "execution_count": null,
      "outputs": []
    },
    {
      "cell_type": "code",
      "metadata": {
        "trusted": true,
        "id": "U_r3zhu7jonL",
        "colab_type": "code",
        "colab": {},
        "outputId": "0774141d-efae-4340-d051-f25ab747b50e"
      },
      "source": [
        "# to choose the hyperparameter before the actual training and we use valdation set here\n",
        "# history = model.fit(input_data,output_data, epochs=200,validation_split=0.3,callbacks=[mcp_save()])\n",
        "# the actual training with the whole train data\n",
        "history = model.fit(input_data,output_data, epochs=80,callbacks=[mcp_save()])"
      ],
      "execution_count": null,
      "outputs": [
        {
          "output_type": "stream",
          "text": [
            "Epoch 1/80\n",
            "66/66 [==============================] - 1s 15ms/step - loss: 0.2186 - acc: 0.3228\n",
            "Epoch 2/80\n",
            "66/66 [==============================] - 1s 14ms/step - loss: 0.1530 - acc: 0.3692\n",
            "Epoch 3/80\n",
            "66/66 [==============================] - 1s 14ms/step - loss: 0.1340 - acc: 0.3891\n",
            "Epoch 4/80\n",
            "66/66 [==============================] - 1s 16ms/step - loss: 0.1258 - acc: 0.3961\n",
            "Epoch 5/80\n",
            "66/66 [==============================] - 1s 16ms/step - loss: 0.1207 - acc: 0.4041\n",
            "Epoch 6/80\n",
            "66/66 [==============================] - 1s 14ms/step - loss: 0.1157 - acc: 0.4070\n",
            "Epoch 7/80\n",
            "66/66 [==============================] - 1s 15ms/step - loss: 0.1119 - acc: 0.4116\n",
            "Epoch 8/80\n",
            "66/66 [==============================] - 1s 14ms/step - loss: 0.1082 - acc: 0.4104\n",
            "Epoch 9/80\n",
            "66/66 [==============================] - 1s 14ms/step - loss: 0.1060 - acc: 0.4107\n",
            "Epoch 10/80\n",
            "66/66 [==============================] - 1s 14ms/step - loss: 0.1039 - acc: 0.4115\n",
            "Epoch 11/80\n",
            "66/66 [==============================] - 1s 14ms/step - loss: 0.1010 - acc: 0.4177\n",
            "Epoch 12/80\n",
            "66/66 [==============================] - 1s 14ms/step - loss: 0.0992 - acc: 0.4227\n",
            "Epoch 13/80\n",
            "66/66 [==============================] - 1s 14ms/step - loss: 0.0982 - acc: 0.4222\n",
            "Epoch 14/80\n",
            "66/66 [==============================] - 1s 14ms/step - loss: 0.0953 - acc: 0.4262\n",
            "Epoch 15/80\n",
            "66/66 [==============================] - 1s 14ms/step - loss: 0.0944 - acc: 0.4280\n",
            "Epoch 16/80\n",
            "66/66 [==============================] - 1s 17ms/step - loss: 0.0926 - acc: 0.4296\n",
            "Epoch 17/80\n",
            "66/66 [==============================] - 1s 14ms/step - loss: 0.0920 - acc: 0.4269\n",
            "Epoch 18/80\n",
            "66/66 [==============================] - 1s 14ms/step - loss: 0.0902 - acc: 0.4307\n",
            "Epoch 19/80\n",
            "66/66 [==============================] - 1s 14ms/step - loss: 0.0888 - acc: 0.4331\n",
            "Epoch 20/80\n",
            "66/66 [==============================] - 1s 14ms/step - loss: 0.0879 - acc: 0.4324\n",
            "Epoch 21/80\n",
            "66/66 [==============================] - 1s 14ms/step - loss: 0.0875 - acc: 0.4322\n",
            "Epoch 22/80\n",
            "66/66 [==============================] - 1s 14ms/step - loss: 0.0859 - acc: 0.4351\n",
            "Epoch 23/80\n",
            "66/66 [==============================] - 1s 14ms/step - loss: 0.0850 - acc: 0.4366\n",
            "Epoch 24/80\n",
            "66/66 [==============================] - 1s 14ms/step - loss: 0.0846 - acc: 0.4379\n",
            "Epoch 25/80\n",
            "66/66 [==============================] - 1s 14ms/step - loss: 0.0837 - acc: 0.4404\n",
            "Epoch 26/80\n",
            "66/66 [==============================] - 1s 14ms/step - loss: 0.0827 - acc: 0.4424\n",
            "Epoch 27/80\n",
            "66/66 [==============================] - 1s 15ms/step - loss: 0.0849 - acc: 0.4393\n",
            "Epoch 28/80\n",
            "66/66 [==============================] - 1s 15ms/step - loss: 0.0824 - acc: 0.4420\n",
            "Epoch 29/80\n",
            "66/66 [==============================] - 1s 14ms/step - loss: 0.0808 - acc: 0.4455\n",
            "Epoch 30/80\n",
            "66/66 [==============================] - 1s 14ms/step - loss: 0.0806 - acc: 0.4462\n",
            "Epoch 31/80\n",
            "66/66 [==============================] - 1s 14ms/step - loss: 0.0798 - acc: 0.4487\n",
            "Epoch 32/80\n",
            "66/66 [==============================] - 1s 14ms/step - loss: 0.0792 - acc: 0.4485\n",
            "Epoch 33/80\n",
            "66/66 [==============================] - 1s 14ms/step - loss: 0.0792 - acc: 0.4462\n",
            "Epoch 34/80\n",
            "66/66 [==============================] - 1s 14ms/step - loss: 0.0784 - acc: 0.4479\n",
            "Epoch 35/80\n",
            "66/66 [==============================] - 1s 14ms/step - loss: 0.0781 - acc: 0.4475\n",
            "Epoch 36/80\n",
            "66/66 [==============================] - 1s 14ms/step - loss: 0.0773 - acc: 0.4525\n",
            "Epoch 37/80\n",
            "66/66 [==============================] - 1s 13ms/step - loss: 0.0784 - acc: 0.4487\n",
            "Epoch 38/80\n",
            "66/66 [==============================] - 1s 14ms/step - loss: 0.0767 - acc: 0.4528\n",
            "Epoch 39/80\n",
            "66/66 [==============================] - 1s 18ms/step - loss: 0.0759 - acc: 0.4547\n",
            "Epoch 40/80\n",
            "66/66 [==============================] - 1s 14ms/step - loss: 0.0758 - acc: 0.4529\n",
            "Epoch 41/80\n",
            "66/66 [==============================] - 1s 14ms/step - loss: 0.0752 - acc: 0.4546\n",
            "Epoch 42/80\n",
            "66/66 [==============================] - 1s 14ms/step - loss: 0.0750 - acc: 0.4543\n",
            "Epoch 43/80\n",
            "66/66 [==============================] - 1s 14ms/step - loss: 0.0745 - acc: 0.4569\n",
            "Epoch 44/80\n",
            "66/66 [==============================] - 1s 14ms/step - loss: 0.0744 - acc: 0.4565\n",
            "Epoch 45/80\n",
            "66/66 [==============================] - 1s 14ms/step - loss: 0.0737 - acc: 0.4552\n",
            "Epoch 46/80\n",
            "66/66 [==============================] - 1s 13ms/step - loss: 0.0738 - acc: 0.4574\n",
            "Epoch 47/80\n",
            "66/66 [==============================] - 1s 14ms/step - loss: 0.0730 - acc: 0.4596\n",
            "Epoch 48/80\n",
            "66/66 [==============================] - 1s 14ms/step - loss: 0.0728 - acc: 0.4585\n",
            "Epoch 49/80\n",
            "66/66 [==============================] - 1s 13ms/step - loss: 0.0729 - acc: 0.4596\n",
            "Epoch 50/80\n",
            "66/66 [==============================] - 1s 14ms/step - loss: 0.0724 - acc: 0.4613\n",
            "Epoch 51/80\n",
            "66/66 [==============================] - 1s 17ms/step - loss: 0.0721 - acc: 0.4622\n",
            "Epoch 52/80\n",
            "66/66 [==============================] - 1s 14ms/step - loss: 0.0714 - acc: 0.4635\n",
            "Epoch 53/80\n",
            "66/66 [==============================] - 1s 14ms/step - loss: 0.0709 - acc: 0.4637\n",
            "Epoch 54/80\n",
            "66/66 [==============================] - 1s 14ms/step - loss: 0.0713 - acc: 0.4626\n",
            "Epoch 55/80\n",
            "66/66 [==============================] - 1s 14ms/step - loss: 0.0708 - acc: 0.4641\n",
            "Epoch 56/80\n",
            "66/66 [==============================] - 1s 18ms/step - loss: 0.0708 - acc: 0.4656\n",
            "Epoch 57/80\n",
            "66/66 [==============================] - 1s 15ms/step - loss: 0.0698 - acc: 0.4651\n",
            "Epoch 58/80\n",
            "66/66 [==============================] - 1s 15ms/step - loss: 0.0698 - acc: 0.4662\n",
            "Epoch 59/80\n",
            "66/66 [==============================] - 1s 14ms/step - loss: 0.0693 - acc: 0.4670\n",
            "Epoch 60/80\n",
            "66/66 [==============================] - 1s 14ms/step - loss: 0.0692 - acc: 0.4667\n",
            "Epoch 61/80\n",
            "66/66 [==============================] - 1s 14ms/step - loss: 0.0691 - acc: 0.4681\n",
            "Epoch 62/80\n",
            "66/66 [==============================] - 1s 18ms/step - loss: 0.0688 - acc: 0.4663\n",
            "Epoch 63/80\n",
            "66/66 [==============================] - 1s 14ms/step - loss: 0.0687 - acc: 0.4681\n",
            "Epoch 64/80\n",
            "66/66 [==============================] - 1s 15ms/step - loss: 0.0683 - acc: 0.4691\n",
            "Epoch 65/80\n",
            "66/66 [==============================] - 1s 14ms/step - loss: 0.0680 - acc: 0.4703\n",
            "Epoch 66/80\n",
            "66/66 [==============================] - 1s 14ms/step - loss: 0.0677 - acc: 0.4703\n",
            "Epoch 67/80\n",
            "66/66 [==============================] - 1s 14ms/step - loss: 0.0676 - acc: 0.4697\n",
            "Epoch 68/80\n",
            "66/66 [==============================] - 1s 14ms/step - loss: 0.0673 - acc: 0.4696\n",
            "Epoch 69/80\n",
            "66/66 [==============================] - 1s 13ms/step - loss: 0.0674 - acc: 0.4702\n",
            "Epoch 70/80\n",
            "66/66 [==============================] - 1s 14ms/step - loss: 0.0674 - acc: 0.4713\n",
            "Epoch 71/80\n",
            "66/66 [==============================] - 1s 14ms/step - loss: 0.0667 - acc: 0.4719\n",
            "Epoch 72/80\n",
            "66/66 [==============================] - 1s 20ms/step - loss: 0.0665 - acc: 0.4710\n",
            "Epoch 73/80\n",
            "66/66 [==============================] - 1s 14ms/step - loss: 0.0664 - acc: 0.4711\n",
            "Epoch 74/80\n",
            "66/66 [==============================] - 1s 14ms/step - loss: 0.0662 - acc: 0.4733\n",
            "Epoch 75/80\n",
            "66/66 [==============================] - 1s 14ms/step - loss: 0.0660 - acc: 0.4732\n",
            "Epoch 76/80\n",
            "66/66 [==============================] - 1s 14ms/step - loss: 0.0657 - acc: 0.4742\n",
            "Epoch 77/80\n",
            "66/66 [==============================] - 1s 14ms/step - loss: 0.0654 - acc: 0.4731\n",
            "Epoch 78/80\n",
            "66/66 [==============================] - 1s 14ms/step - loss: 0.0653 - acc: 0.4739\n",
            "Epoch 79/80\n",
            "66/66 [==============================] - 1s 13ms/step - loss: 0.0658 - acc: 0.4731\n",
            "Epoch 80/80\n",
            "66/66 [==============================] - 1s 13ms/step - loss: 0.0655 - acc: 0.4736\n"
          ],
          "name": "stdout"
        }
      ]
    },
    {
      "cell_type": "code",
      "metadata": {
        "trusted": true,
        "id": "azN5NBhujonN",
        "colab_type": "code",
        "colab": {},
        "outputId": "7f0c5f3a-3d14-4b28-e201-983c9108cd2c"
      },
      "source": [
        "# Visualize the val-loss and training loss\n",
        "fig = px.line(\n",
        "    history.history, y=['loss', 'val_loss'], \n",
        "    labels={'index': 'epoch', 'value': 'Mean Squared Error'}, \n",
        "    title='Training History')\n",
        "fig.show()"
      ],
      "execution_count": null,
      "outputs": [
        {
          "output_type": "display_data",
          "data": {
            "text/html": [
              "        <script type=\"text/javascript\">\n",
              "        window.PlotlyConfig = {MathJaxConfig: 'local'};\n",
              "        if (window.MathJax) {MathJax.Hub.Config({SVG: {font: \"STIX-Web\"}});}\n",
              "        if (typeof require !== 'undefined') {\n",
              "        require.undef(\"plotly\");\n",
              "        requirejs.config({\n",
              "            paths: {\n",
              "                'plotly': ['https://cdn.plot.ly/plotly-latest.min']\n",
              "            }\n",
              "        });\n",
              "        require(['plotly'], function(Plotly) {\n",
              "            window._Plotly = Plotly;\n",
              "        });\n",
              "        }\n",
              "        </script>\n",
              "        "
            ]
          },
          "metadata": {
            "tags": []
          }
        },
        {
          "output_type": "display_data",
          "data": {
            "text/html": [
              "<div>\n",
              "        \n",
              "        \n",
              "            <div id=\"3d3c79b8-0db1-411c-b31b-78afc2728f4c\" class=\"plotly-graph-div\" style=\"height:525px; width:100%;\"></div>\n",
              "            <script type=\"text/javascript\">\n",
              "                require([\"plotly\"], function(Plotly) {\n",
              "                    window.PLOTLYENV=window.PLOTLYENV || {};\n",
              "                    \n",
              "                if (document.getElementById(\"3d3c79b8-0db1-411c-b31b-78afc2728f4c\")) {\n",
              "                    Plotly.newPlot(\n",
              "                        '3d3c79b8-0db1-411c-b31b-78afc2728f4c',\n",
              "                        [{\"hovertemplate\": \"variable=loss<br>epoch=%{x}<br>Mean Squared Error=%{y}<extra></extra>\", \"legendgroup\": \"loss\", \"line\": {\"color\": \"#636efa\", \"dash\": \"solid\"}, \"mode\": \"lines\", \"name\": \"loss\", \"orientation\": \"v\", \"showlegend\": true, \"type\": \"scatter\", \"x\": [0, 1, 2, 3, 4, 5, 6, 7, 8, 9, 10, 11, 12, 13, 14, 15, 16, 17, 18, 19, 20, 21, 22, 23, 24, 25, 26, 27, 28, 29, 30, 31, 32, 33, 34, 35, 36, 37, 38, 39, 40, 41, 42, 43, 44, 45, 46, 47, 48, 49, 50, 51, 52, 53, 54, 55, 56, 57, 58, 59, 60, 61, 62, 63, 64, 65, 66, 67, 68, 69, 70, 71, 72, 73, 74, 75, 76, 77, 78, 79, 80, 81, 82, 83, 84, 85, 86, 87, 88, 89, 90, 91, 92, 93, 94, 95, 96, 97, 98, 99, 100, 101, 102, 103, 104, 105, 106, 107, 108, 109, 110, 111, 112, 113, 114, 115, 116, 117, 118, 119, 120, 121, 122, 123, 124, 125, 126, 127, 128, 129, 130, 131, 132, 133, 134, 135, 136, 137, 138, 139, 140, 141, 142, 143, 144, 145, 146, 147, 148, 149, 150, 151, 152, 153, 154, 155, 156, 157, 158, 159, 160, 161, 162, 163, 164, 165, 166, 167, 168, 169, 170, 171, 172, 173, 174, 175, 176, 177, 178, 179, 180, 181, 182, 183, 184, 185, 186, 187, 188, 189, 190, 191, 192, 193, 194, 195, 196, 197, 198, 199], \"xaxis\": \"x\", \"y\": [0.23729287087917328, 0.1640557050704956, 0.14432407915592194, 0.13329097628593445, 0.12663805484771729, 0.12258519977331161, 0.11881792545318604, 0.11599915474653244, 0.11351568251848221, 0.11173436790704727, 0.10871398448944092, 0.10664550960063934, 0.10449572652578354, 0.10292534530162811, 0.10083577036857605, 0.10009785741567612, 0.09815417230129242, 0.09659098833799362, 0.09570559859275818, 0.09344511479139328, 0.09281248599290848, 0.0913134291768074, 0.08931095153093338, 0.08830605447292328, 0.08792421221733093, 0.08706538379192352, 0.08716849237680435, 0.08534014225006104, 0.08500032871961594, 0.0841689184308052, 0.08320675045251846, 0.08233510702848434, 0.08224024623632431, 0.08121718466281891, 0.08089253306388855, 0.08029297739267349, 0.07978565245866776, 0.07897759228944778, 0.07852330803871155, 0.07814019173383713, 0.07764766365289688, 0.07745916396379471, 0.07703468948602676, 0.07632274180650711, 0.07596521079540253, 0.07562194019556046, 0.07547706365585327, 0.07529504597187042, 0.07449803501367569, 0.07389979064464569, 0.07367482781410217, 0.07398896664381027, 0.0737384706735611, 0.07303939014673233, 0.07267003506422043, 0.07196668535470963, 0.07191386818885803, 0.0717233270406723, 0.0716453269124031, 0.07112419605255127, 0.0714402049779892, 0.07065866887569427, 0.07045088708400726, 0.07012958824634552, 0.06998361647129059, 0.07046093046665192, 0.06979498267173767, 0.06917167454957962, 0.06917799264192581, 0.06860712170600891, 0.0686047375202179, 0.06853409856557846, 0.06838807463645935, 0.06849515438079834, 0.06760933995246887, 0.06737908720970154, 0.06709731370210648, 0.06711911410093307, 0.06717757135629654, 0.06704145669937134, 0.06704790145158768, 0.06637967377901077, 0.0661860778927803, 0.06573010236024857, 0.06581391394138336, 0.06568334251642227, 0.0656690001487732, 0.06532087922096252, 0.06533538550138474, 0.0651947557926178, 0.0649784728884697, 0.06466004252433777, 0.06462861597537994, 0.06451600790023804, 0.06412512063980103, 0.06392796337604523, 0.06377165764570236, 0.06367162615060806, 0.06356614828109741, 0.06319136917591095, 0.06320333480834961, 0.06299488246440887, 0.06328091770410538, 0.0626540407538414, 0.06240714341402054, 0.062126368284225464, 0.062145791947841644, 0.06193150207400322, 0.06182486191391945, 0.06155165657401085, 0.06152806058526039, 0.06154615059494972, 0.06130277365446091, 0.06103324145078659, 0.06093737483024597, 0.06117430701851845, 0.06099250167608261, 0.06047121435403824, 0.06058217212557793, 0.06017310917377472, 0.0602433905005455, 0.05997587740421295, 0.06024421006441116, 0.059973254799842834, 0.059588994830846786, 0.059992361813783646, 0.05974123626947403, 0.05938118323683739, 0.05892394110560417, 0.05891742929816246, 0.062194690108299255, 0.060757335275411606, 0.05928846821188927, 0.05877729132771492, 0.05852259323000908, 0.058157552033662796, 0.05796084180474281, 0.05822020769119263, 0.05821683257818222, 0.05767112225294113, 0.05761928856372833, 0.057639382779598236, 0.057544413954019547, 0.05750016123056412, 0.05733710154891014, 0.057265788316726685, 0.05740981549024582, 0.05681522190570831, 0.05684641748666763, 0.05666278675198555, 0.0565035417675972, 0.0567338801920414, 0.05630955100059509, 0.05589376762509346, 0.05645076557993889, 0.05626183748245239, 0.05578869581222534, 0.0559145025908947, 0.05572492256760597, 0.05567791312932968, 0.055537715554237366, 0.0554661750793457, 0.0552314892411232, 0.055380161851644516, 0.05534759536385536, 0.0549631342291832, 0.05499298870563507, 0.05492689087986946, 0.05503357946872711, 0.05495470017194748, 0.05504358187317848, 0.05469557270407677, 0.05456524342298508, 0.05424651876091957, 0.05414331331849098, 0.05391963943839073, 0.05417734384536743, 0.05384640395641327, 0.05379466712474823, 0.053652700036764145, 0.05385761335492134, 0.053714584559202194, 0.0534774474799633, 0.05354780703783035, 0.05363726615905762, 0.05349886417388916, 0.05319000780582428, 0.052960678935050964, 0.05293620377779007, 0.053469251841306686, 0.053407009690999985, 0.05279126018285751, 0.05287744104862213, 0.052656468003988266, 0.052534859627485275, 0.05244153365492821, 0.052342284470796585, 0.05217510834336281, 0.05220683291554451, 0.05208053067326546], \"yaxis\": \"y\"}, {\"hovertemplate\": \"variable=val_loss<br>epoch=%{x}<br>Mean Squared Error=%{y}<extra></extra>\", \"legendgroup\": \"val_loss\", \"line\": {\"color\": \"#EF553B\", \"dash\": \"solid\"}, \"mode\": \"lines\", \"name\": \"val_loss\", \"orientation\": \"v\", \"showlegend\": true, \"type\": \"scatter\", \"x\": [0, 1, 2, 3, 4, 5, 6, 7, 8, 9, 10, 11, 12, 13, 14, 15, 16, 17, 18, 19, 20, 21, 22, 23, 24, 25, 26, 27, 28, 29, 30, 31, 32, 33, 34, 35, 36, 37, 38, 39, 40, 41, 42, 43, 44, 45, 46, 47, 48, 49, 50, 51, 52, 53, 54, 55, 56, 57, 58, 59, 60, 61, 62, 63, 64, 65, 66, 67, 68, 69, 70, 71, 72, 73, 74, 75, 76, 77, 78, 79, 80, 81, 82, 83, 84, 85, 86, 87, 88, 89, 90, 91, 92, 93, 94, 95, 96, 97, 98, 99, 100, 101, 102, 103, 104, 105, 106, 107, 108, 109, 110, 111, 112, 113, 114, 115, 116, 117, 118, 119, 120, 121, 122, 123, 124, 125, 126, 127, 128, 129, 130, 131, 132, 133, 134, 135, 136, 137, 138, 139, 140, 141, 142, 143, 144, 145, 146, 147, 148, 149, 150, 151, 152, 153, 154, 155, 156, 157, 158, 159, 160, 161, 162, 163, 164, 165, 166, 167, 168, 169, 170, 171, 172, 173, 174, 175, 176, 177, 178, 179, 180, 181, 182, 183, 184, 185, 186, 187, 188, 189, 190, 191, 192, 193, 194, 195, 196, 197, 198, 199], \"xaxis\": \"x\", \"y\": [0.18381591141223907, 0.1576978713274002, 0.14310842752456665, 0.13472221791744232, 0.13028204441070557, 0.12585145235061646, 0.12402224540710449, 0.11996274441480637, 0.1185336709022522, 0.11514419317245483, 0.11243943125009537, 0.11153334379196167, 0.10947064310312271, 0.10738137364387512, 0.10653646290302277, 0.1047428548336029, 0.10381825268268585, 0.10195004940032959, 0.09906571358442307, 0.09842600673437119, 0.09811756014823914, 0.09628838300704956, 0.09467335790395737, 0.09383964538574219, 0.0929713025689125, 0.09191711992025375, 0.09211119264364243, 0.09132809937000275, 0.09043025970458984, 0.09099026024341583, 0.08862277120351791, 0.09003405272960663, 0.08834180980920792, 0.08710739016532898, 0.0873803123831749, 0.08660387992858887, 0.08618791401386261, 0.08590549975633621, 0.08508951216936111, 0.08584460616111755, 0.08460956066846848, 0.08433085680007935, 0.08375445008277893, 0.08328049629926682, 0.08285153657197952, 0.08382360637187958, 0.08356127887964249, 0.08228913694620132, 0.08218030631542206, 0.08202609419822693, 0.081088125705719, 0.08150779455900192, 0.08161632716655731, 0.08101735264062881, 0.08108296990394592, 0.08007729053497314, 0.08061226457357407, 0.08099041134119034, 0.07979506254196167, 0.08052929490804672, 0.08018054813146591, 0.07975577563047409, 0.07966933399438858, 0.0790119394659996, 0.07926447689533234, 0.08048271387815475, 0.07926815748214722, 0.07852193713188171, 0.07823560386896133, 0.07872435450553894, 0.07945011556148529, 0.07845974713563919, 0.07975345849990845, 0.07830248028039932, 0.07794360816478729, 0.07827065140008926, 0.07810502499341965, 0.07878386229276657, 0.07765473425388336, 0.07795827835798264, 0.07825732231140137, 0.07783256471157074, 0.07754533737897873, 0.07770193368196487, 0.07715599238872528, 0.07720440626144409, 0.07731926441192627, 0.07840142399072647, 0.07695493847131729, 0.07854221016168594, 0.0773225873708725, 0.07686854898929596, 0.07689429819583893, 0.07713823020458221, 0.07687296718358994, 0.07648251205682755, 0.07687535881996155, 0.0772477388381958, 0.07656251639127731, 0.07660351693630219, 0.0763738602399826, 0.07685574889183044, 0.07609722763299942, 0.07656891644001007, 0.07659946382045746, 0.07665695995092392, 0.07667361199855804, 0.0765293538570404, 0.07610397785902023, 0.07673734426498413, 0.07755360007286072, 0.07625994831323624, 0.07672698050737381, 0.07594557106494904, 0.07662518322467804, 0.07717988640069962, 0.0762142464518547, 0.07656922936439514, 0.07700247317552567, 0.07623574137687683, 0.0759839117527008, 0.07675471156835556, 0.07655172795057297, 0.07614593207836151, 0.07624702900648117, 0.07697737962007523, 0.07636389136314392, 0.07582970708608627, 0.07639297842979431, 0.07615082710981369, 0.07803718745708466, 0.07638628035783768, 0.07525159418582916, 0.07584593445062637, 0.07547730952501297, 0.07561647891998291, 0.07555440068244934, 0.07598359882831573, 0.07548379898071289, 0.07525577396154404, 0.07579828053712845, 0.0761675015091896, 0.075875423848629, 0.07618782669305801, 0.07562171667814255, 0.0765068456530571, 0.07648580521345139, 0.07648763805627823, 0.0758620873093605, 0.07585163414478302, 0.075759157538414, 0.07596221566200256, 0.07579319924116135, 0.07596442103385925, 0.07555951923131943, 0.07563358545303345, 0.07567945867776871, 0.07655832171440125, 0.07565440237522125, 0.07647585868835449, 0.07624637335538864, 0.07583598047494888, 0.07649385184049606, 0.07620938122272491, 0.0768687054514885, 0.0761009007692337, 0.07676629722118378, 0.07585882395505905, 0.07676008343696594, 0.07643439620733261, 0.0761687308549881, 0.07670511305332184, 0.07604832947254181, 0.07644928246736526, 0.07616443932056427, 0.07665883749723434, 0.07585635036230087, 0.07619305700063705, 0.07665733247995377, 0.07622000575065613, 0.07610951364040375, 0.07658077031373978, 0.07686199992895126, 0.0763728991150856, 0.07654670625925064, 0.07613496482372284, 0.07584619522094727, 0.07616070657968521, 0.07613296061754227, 0.07661694288253784, 0.07644767314195633, 0.07650873810052872, 0.07615678012371063, 0.07563962787389755, 0.07629309594631195, 0.07673844695091248, 0.0761117935180664, 0.07575863599777222, 0.07637966424226761, 0.07656507939100266], \"yaxis\": \"y\"}],\n",
              "                        {\"legend\": {\"title\": {\"text\": \"variable\"}, \"tracegroupgap\": 0}, \"template\": {\"data\": {\"bar\": [{\"error_x\": {\"color\": \"#2a3f5f\"}, \"error_y\": {\"color\": \"#2a3f5f\"}, \"marker\": {\"line\": {\"color\": \"#E5ECF6\", \"width\": 0.5}}, \"type\": \"bar\"}], \"barpolar\": [{\"marker\": {\"line\": {\"color\": \"#E5ECF6\", \"width\": 0.5}}, \"type\": \"barpolar\"}], \"carpet\": [{\"aaxis\": {\"endlinecolor\": \"#2a3f5f\", \"gridcolor\": \"white\", \"linecolor\": \"white\", \"minorgridcolor\": \"white\", \"startlinecolor\": \"#2a3f5f\"}, \"baxis\": {\"endlinecolor\": \"#2a3f5f\", \"gridcolor\": \"white\", \"linecolor\": \"white\", \"minorgridcolor\": \"white\", \"startlinecolor\": \"#2a3f5f\"}, \"type\": \"carpet\"}], \"choropleth\": [{\"colorbar\": {\"outlinewidth\": 0, \"ticks\": \"\"}, \"type\": \"choropleth\"}], \"contour\": [{\"colorbar\": {\"outlinewidth\": 0, \"ticks\": \"\"}, \"colorscale\": [[0.0, \"#0d0887\"], [0.1111111111111111, \"#46039f\"], [0.2222222222222222, \"#7201a8\"], [0.3333333333333333, \"#9c179e\"], [0.4444444444444444, \"#bd3786\"], [0.5555555555555556, \"#d8576b\"], [0.6666666666666666, \"#ed7953\"], [0.7777777777777778, \"#fb9f3a\"], [0.8888888888888888, \"#fdca26\"], [1.0, \"#f0f921\"]], \"type\": \"contour\"}], \"contourcarpet\": [{\"colorbar\": {\"outlinewidth\": 0, \"ticks\": \"\"}, \"type\": \"contourcarpet\"}], \"heatmap\": [{\"colorbar\": {\"outlinewidth\": 0, \"ticks\": \"\"}, \"colorscale\": [[0.0, \"#0d0887\"], [0.1111111111111111, \"#46039f\"], [0.2222222222222222, \"#7201a8\"], [0.3333333333333333, \"#9c179e\"], [0.4444444444444444, \"#bd3786\"], [0.5555555555555556, \"#d8576b\"], [0.6666666666666666, \"#ed7953\"], [0.7777777777777778, \"#fb9f3a\"], [0.8888888888888888, \"#fdca26\"], [1.0, \"#f0f921\"]], \"type\": \"heatmap\"}], \"heatmapgl\": [{\"colorbar\": {\"outlinewidth\": 0, \"ticks\": \"\"}, \"colorscale\": [[0.0, \"#0d0887\"], [0.1111111111111111, \"#46039f\"], [0.2222222222222222, \"#7201a8\"], [0.3333333333333333, \"#9c179e\"], [0.4444444444444444, \"#bd3786\"], [0.5555555555555556, \"#d8576b\"], [0.6666666666666666, \"#ed7953\"], [0.7777777777777778, \"#fb9f3a\"], [0.8888888888888888, \"#fdca26\"], [1.0, \"#f0f921\"]], \"type\": \"heatmapgl\"}], \"histogram\": [{\"marker\": {\"colorbar\": {\"outlinewidth\": 0, \"ticks\": \"\"}}, \"type\": \"histogram\"}], \"histogram2d\": [{\"colorbar\": {\"outlinewidth\": 0, \"ticks\": \"\"}, \"colorscale\": [[0.0, \"#0d0887\"], [0.1111111111111111, \"#46039f\"], [0.2222222222222222, \"#7201a8\"], [0.3333333333333333, \"#9c179e\"], [0.4444444444444444, \"#bd3786\"], [0.5555555555555556, \"#d8576b\"], [0.6666666666666666, \"#ed7953\"], [0.7777777777777778, \"#fb9f3a\"], [0.8888888888888888, \"#fdca26\"], [1.0, \"#f0f921\"]], \"type\": \"histogram2d\"}], \"histogram2dcontour\": [{\"colorbar\": {\"outlinewidth\": 0, \"ticks\": \"\"}, \"colorscale\": [[0.0, \"#0d0887\"], [0.1111111111111111, \"#46039f\"], [0.2222222222222222, \"#7201a8\"], [0.3333333333333333, \"#9c179e\"], [0.4444444444444444, \"#bd3786\"], [0.5555555555555556, \"#d8576b\"], [0.6666666666666666, \"#ed7953\"], [0.7777777777777778, \"#fb9f3a\"], [0.8888888888888888, \"#fdca26\"], [1.0, \"#f0f921\"]], \"type\": \"histogram2dcontour\"}], \"mesh3d\": [{\"colorbar\": {\"outlinewidth\": 0, \"ticks\": \"\"}, \"type\": \"mesh3d\"}], \"parcoords\": [{\"line\": {\"colorbar\": {\"outlinewidth\": 0, \"ticks\": \"\"}}, \"type\": \"parcoords\"}], \"pie\": [{\"automargin\": true, \"type\": \"pie\"}], \"scatter\": [{\"marker\": {\"colorbar\": {\"outlinewidth\": 0, \"ticks\": \"\"}}, \"type\": \"scatter\"}], \"scatter3d\": [{\"line\": {\"colorbar\": {\"outlinewidth\": 0, \"ticks\": \"\"}}, \"marker\": {\"colorbar\": {\"outlinewidth\": 0, \"ticks\": \"\"}}, \"type\": \"scatter3d\"}], \"scattercarpet\": [{\"marker\": {\"colorbar\": {\"outlinewidth\": 0, \"ticks\": \"\"}}, \"type\": \"scattercarpet\"}], \"scattergeo\": [{\"marker\": {\"colorbar\": {\"outlinewidth\": 0, \"ticks\": \"\"}}, \"type\": \"scattergeo\"}], \"scattergl\": [{\"marker\": {\"colorbar\": {\"outlinewidth\": 0, \"ticks\": \"\"}}, \"type\": \"scattergl\"}], \"scattermapbox\": [{\"marker\": {\"colorbar\": {\"outlinewidth\": 0, \"ticks\": \"\"}}, \"type\": \"scattermapbox\"}], \"scatterpolar\": [{\"marker\": {\"colorbar\": {\"outlinewidth\": 0, \"ticks\": \"\"}}, \"type\": \"scatterpolar\"}], \"scatterpolargl\": [{\"marker\": {\"colorbar\": {\"outlinewidth\": 0, \"ticks\": \"\"}}, \"type\": \"scatterpolargl\"}], \"scatterternary\": [{\"marker\": {\"colorbar\": {\"outlinewidth\": 0, \"ticks\": \"\"}}, \"type\": \"scatterternary\"}], \"surface\": [{\"colorbar\": {\"outlinewidth\": 0, \"ticks\": \"\"}, \"colorscale\": [[0.0, \"#0d0887\"], [0.1111111111111111, \"#46039f\"], [0.2222222222222222, \"#7201a8\"], [0.3333333333333333, \"#9c179e\"], [0.4444444444444444, \"#bd3786\"], [0.5555555555555556, \"#d8576b\"], [0.6666666666666666, \"#ed7953\"], [0.7777777777777778, \"#fb9f3a\"], [0.8888888888888888, \"#fdca26\"], [1.0, \"#f0f921\"]], \"type\": \"surface\"}], \"table\": [{\"cells\": {\"fill\": {\"color\": \"#EBF0F8\"}, \"line\": {\"color\": \"white\"}}, \"header\": {\"fill\": {\"color\": \"#C8D4E3\"}, \"line\": {\"color\": \"white\"}}, \"type\": \"table\"}]}, \"layout\": {\"annotationdefaults\": {\"arrowcolor\": \"#2a3f5f\", \"arrowhead\": 0, \"arrowwidth\": 1}, \"coloraxis\": {\"colorbar\": {\"outlinewidth\": 0, \"ticks\": \"\"}}, \"colorscale\": {\"diverging\": [[0, \"#8e0152\"], [0.1, \"#c51b7d\"], [0.2, \"#de77ae\"], [0.3, \"#f1b6da\"], [0.4, \"#fde0ef\"], [0.5, \"#f7f7f7\"], [0.6, \"#e6f5d0\"], [0.7, \"#b8e186\"], [0.8, \"#7fbc41\"], [0.9, \"#4d9221\"], [1, \"#276419\"]], \"sequential\": [[0.0, \"#0d0887\"], [0.1111111111111111, \"#46039f\"], [0.2222222222222222, \"#7201a8\"], [0.3333333333333333, \"#9c179e\"], [0.4444444444444444, \"#bd3786\"], [0.5555555555555556, \"#d8576b\"], [0.6666666666666666, \"#ed7953\"], [0.7777777777777778, \"#fb9f3a\"], [0.8888888888888888, \"#fdca26\"], [1.0, \"#f0f921\"]], \"sequentialminus\": [[0.0, \"#0d0887\"], [0.1111111111111111, \"#46039f\"], [0.2222222222222222, \"#7201a8\"], [0.3333333333333333, \"#9c179e\"], [0.4444444444444444, \"#bd3786\"], [0.5555555555555556, \"#d8576b\"], [0.6666666666666666, \"#ed7953\"], [0.7777777777777778, \"#fb9f3a\"], [0.8888888888888888, \"#fdca26\"], [1.0, \"#f0f921\"]]}, \"colorway\": [\"#636efa\", \"#EF553B\", \"#00cc96\", \"#ab63fa\", \"#FFA15A\", \"#19d3f3\", \"#FF6692\", \"#B6E880\", \"#FF97FF\", \"#FECB52\"], \"font\": {\"color\": \"#2a3f5f\"}, \"geo\": {\"bgcolor\": \"white\", \"lakecolor\": \"white\", \"landcolor\": \"#E5ECF6\", \"showlakes\": true, \"showland\": true, \"subunitcolor\": \"white\"}, \"hoverlabel\": {\"align\": \"left\"}, \"hovermode\": \"closest\", \"mapbox\": {\"style\": \"light\"}, \"paper_bgcolor\": \"white\", \"plot_bgcolor\": \"#E5ECF6\", \"polar\": {\"angularaxis\": {\"gridcolor\": \"white\", \"linecolor\": \"white\", \"ticks\": \"\"}, \"bgcolor\": \"#E5ECF6\", \"radialaxis\": {\"gridcolor\": \"white\", \"linecolor\": \"white\", \"ticks\": \"\"}}, \"scene\": {\"xaxis\": {\"backgroundcolor\": \"#E5ECF6\", \"gridcolor\": \"white\", \"gridwidth\": 2, \"linecolor\": \"white\", \"showbackground\": true, \"ticks\": \"\", \"zerolinecolor\": \"white\"}, \"yaxis\": {\"backgroundcolor\": \"#E5ECF6\", \"gridcolor\": \"white\", \"gridwidth\": 2, \"linecolor\": \"white\", \"showbackground\": true, \"ticks\": \"\", \"zerolinecolor\": \"white\"}, \"zaxis\": {\"backgroundcolor\": \"#E5ECF6\", \"gridcolor\": \"white\", \"gridwidth\": 2, \"linecolor\": \"white\", \"showbackground\": true, \"ticks\": \"\", \"zerolinecolor\": \"white\"}}, \"shapedefaults\": {\"line\": {\"color\": \"#2a3f5f\"}}, \"ternary\": {\"aaxis\": {\"gridcolor\": \"white\", \"linecolor\": \"white\", \"ticks\": \"\"}, \"baxis\": {\"gridcolor\": \"white\", \"linecolor\": \"white\", \"ticks\": \"\"}, \"bgcolor\": \"#E5ECF6\", \"caxis\": {\"gridcolor\": \"white\", \"linecolor\": \"white\", \"ticks\": \"\"}}, \"title\": {\"x\": 0.05}, \"xaxis\": {\"automargin\": true, \"gridcolor\": \"white\", \"linecolor\": \"white\", \"ticks\": \"\", \"title\": {\"standoff\": 15}, \"zerolinecolor\": \"white\", \"zerolinewidth\": 2}, \"yaxis\": {\"automargin\": true, \"gridcolor\": \"white\", \"linecolor\": \"white\", \"ticks\": \"\", \"title\": {\"standoff\": 15}, \"zerolinecolor\": \"white\", \"zerolinewidth\": 2}}}, \"title\": {\"text\": \"Training History\"}, \"xaxis\": {\"anchor\": \"y\", \"domain\": [0.0, 1.0], \"title\": {\"text\": \"epoch\"}}, \"yaxis\": {\"anchor\": \"x\", \"domain\": [0.0, 1.0], \"title\": {\"text\": \"Mean Squared Error\"}}},\n",
              "                        {\"responsive\": true}\n",
              "                    ).then(function(){\n",
              "                            \n",
              "var gd = document.getElementById('3d3c79b8-0db1-411c-b31b-78afc2728f4c');\n",
              "var x = new MutationObserver(function (mutations, observer) {{\n",
              "        var display = window.getComputedStyle(gd).display;\n",
              "        if (!display || display === 'none') {{\n",
              "            console.log([gd, 'removed!']);\n",
              "            Plotly.purge(gd);\n",
              "            observer.disconnect();\n",
              "        }}\n",
              "}});\n",
              "\n",
              "// Listen for the removal of the full notebook cells\n",
              "var notebookContainer = gd.closest('#notebook-container');\n",
              "if (notebookContainer) {{\n",
              "    x.observe(notebookContainer, {childList: true});\n",
              "}}\n",
              "\n",
              "// Listen for the clearing of the current output cell\n",
              "var outputEl = gd.closest('.output');\n",
              "if (outputEl) {{\n",
              "    x.observe(outputEl, {childList: true});\n",
              "}}\n",
              "\n",
              "                        })\n",
              "                };\n",
              "                });\n",
              "            </script>\n",
              "        </div>"
            ]
          },
          "metadata": {
            "tags": []
          }
        }
      ]
    },
    {
      "cell_type": "code",
      "metadata": {
        "trusted": true,
        "id": "IWAyLuwXjonV",
        "colab_type": "code",
        "colab": {}
      },
      "source": [
        "# take both lengths of the test set\n",
        "publich_test = test.query('seq_length ==107')\n",
        "private_test = test.query('seq_length ==130')"
      ],
      "execution_count": null,
      "outputs": []
    },
    {
      "cell_type": "code",
      "metadata": {
        "trusted": true,
        "id": "obh5ZlcFjonn",
        "colab_type": "code",
        "colab": {},
        "outputId": "58a4bee9-5e7c-45ef-8efa-7668e28b832e"
      },
      "source": [
        "# convert the features with length 107 from the testset and combine them\n",
        "seqdata_pubtest = process_data(publich_test['sequence'].values,107)\n",
        "loopdata_pubtest = process_data(publich_test['predicted_loop_type'].values,107)\n",
        "strucdata_pubtest = process_data(publich_test['structure'].values,107)\n",
        "input_pubtest_data = np.concatenate((seqdata_pubtest,loopdata_pubtest,strucdata_pubtest),axis=2)\n",
        "input_pubtest_data.shape"
      ],
      "execution_count": null,
      "outputs": [
        {
          "output_type": "stream",
          "text": [
            "629\n",
            "107\n",
            "(629, 107, 1)\n",
            "629\n",
            "107\n",
            "(629, 107, 1)\n",
            "629\n",
            "107\n",
            "(629, 107, 1)\n"
          ],
          "name": "stdout"
        },
        {
          "output_type": "execute_result",
          "data": {
            "text/plain": [
              "(629, 107, 3)"
            ]
          },
          "metadata": {
            "tags": []
          },
          "execution_count": 46
        }
      ]
    },
    {
      "cell_type": "code",
      "metadata": {
        "trusted": true,
        "id": "7cbErRFNjonr",
        "colab_type": "code",
        "colab": {},
        "outputId": "481d82fb-2d78-43ca-b172-082cafe4daf1"
      },
      "source": [
        "# convert the features with length 130 from the testset and combine them\n",
        "seqdata_pritest = process_data(private_test['sequence'].values,130)\n",
        "loopdata_pritest = process_data(private_test['predicted_loop_type'].values,130)\n",
        "strucdata_pritest = process_data(private_test['structure'].values,130)\n",
        "input_pritest_data = np.concatenate((seqdata_pritest,loopdata_pritest,strucdata_pritest),axis=2)\n",
        "input_pritest_data.shape"
      ],
      "execution_count": null,
      "outputs": [
        {
          "output_type": "stream",
          "text": [
            "3005\n",
            "130\n",
            "(3005, 130, 1)\n",
            "3005\n",
            "130\n",
            "(3005, 130, 1)\n",
            "3005\n",
            "130\n",
            "(3005, 130, 1)\n"
          ],
          "name": "stdout"
        },
        {
          "output_type": "execute_result",
          "data": {
            "text/plain": [
              "(3005, 130, 3)"
            ]
          },
          "metadata": {
            "tags": []
          },
          "execution_count": 47
        }
      ]
    },
    {
      "cell_type": "code",
      "metadata": {
        "trusted": true,
        "id": "FrNkj3ORjonv",
        "colab_type": "code",
        "colab": {}
      },
      "source": [
        "# rebuild the models with both lengths\n",
        "model_public = build_mode(107, 107)\n",
        "model_private = build_mode(130, 130)\n",
        "# load the weights\n",
        "model_public.load_weights('weights.best.hdf5')\n",
        "model_private.load_weights('weights.best.hdf5')"
      ],
      "execution_count": null,
      "outputs": []
    },
    {
      "cell_type": "code",
      "metadata": {
        "trusted": true,
        "id": "9gSq32sIjonx",
        "colab_type": "code",
        "colab": {}
      },
      "source": [
        "# make predictions on the testset\n",
        "public_preds = model_public.predict(input_pubtest_data)\n",
        "private_preds = model_private.predict(input_pritest_data)"
      ],
      "execution_count": null,
      "outputs": []
    },
    {
      "cell_type": "code",
      "metadata": {
        "trusted": true,
        "id": "i_45b5tEjon1",
        "colab_type": "code",
        "colab": {}
      },
      "source": [
        "# This will tell us the columns we are predicting\n",
        "pred_cols = ['reactivity', 'deg_Mg_pH10', 'deg_pH10', 'deg_Mg_50C', 'deg_50C']"
      ],
      "execution_count": null,
      "outputs": []
    },
    {
      "cell_type": "code",
      "metadata": {
        "trusted": true,
        "id": "YSklj7asjon4",
        "colab_type": "code",
        "colab": {},
        "outputId": "433c6ee3-73c6-43c3-c292-4d1317c076c8"
      },
      "source": [
        "# preapre the submission file to be in the correct format (a prediction per base)\n",
        "preds_ls = []\n",
        "\n",
        "for df, preds in [(publich_test, public_preds), (private_test, private_preds)]:\n",
        "    for i, uid in enumerate(df.id):\n",
        "        single_pred = preds[i]\n",
        "\n",
        "        single_df = pd.DataFrame(single_pred, columns=pred_cols)\n",
        "        single_df['id_seqpos'] = [f'{uid}_{x}' for x in range(single_df.shape[0])]\n",
        "\n",
        "        preds_ls.append(single_df)\n",
        "\n",
        "preds_df = pd.concat(preds_ls)\n",
        "preds_df.head()"
      ],
      "execution_count": null,
      "outputs": [
        {
          "output_type": "execute_result",
          "data": {
            "text/plain": [
              "   reactivity  deg_Mg_pH10  deg_pH10  deg_Mg_50C   deg_50C       id_seqpos\n",
              "0    0.580043     0.659048  2.106254    0.554200  0.766238  id_00073f8be_0\n",
              "1    1.878288     2.774827  3.849584    2.857925  2.586583  id_00073f8be_1\n",
              "2    1.106511     0.452194  0.553056    0.699635  0.731798  id_00073f8be_2\n",
              "3    1.256432     1.080847  1.151894    1.534393  1.470501  id_00073f8be_3\n",
              "4    0.828744     0.597933  0.527194    0.854053  0.780136  id_00073f8be_4"
            ],
            "text/html": [
              "<div>\n",
              "<style scoped>\n",
              "    .dataframe tbody tr th:only-of-type {\n",
              "        vertical-align: middle;\n",
              "    }\n",
              "\n",
              "    .dataframe tbody tr th {\n",
              "        vertical-align: top;\n",
              "    }\n",
              "\n",
              "    .dataframe thead th {\n",
              "        text-align: right;\n",
              "    }\n",
              "</style>\n",
              "<table border=\"1\" class=\"dataframe\">\n",
              "  <thead>\n",
              "    <tr style=\"text-align: right;\">\n",
              "      <th></th>\n",
              "      <th>reactivity</th>\n",
              "      <th>deg_Mg_pH10</th>\n",
              "      <th>deg_pH10</th>\n",
              "      <th>deg_Mg_50C</th>\n",
              "      <th>deg_50C</th>\n",
              "      <th>id_seqpos</th>\n",
              "    </tr>\n",
              "  </thead>\n",
              "  <tbody>\n",
              "    <tr>\n",
              "      <th>0</th>\n",
              "      <td>0.580043</td>\n",
              "      <td>0.659048</td>\n",
              "      <td>2.106254</td>\n",
              "      <td>0.554200</td>\n",
              "      <td>0.766238</td>\n",
              "      <td>id_00073f8be_0</td>\n",
              "    </tr>\n",
              "    <tr>\n",
              "      <th>1</th>\n",
              "      <td>1.878288</td>\n",
              "      <td>2.774827</td>\n",
              "      <td>3.849584</td>\n",
              "      <td>2.857925</td>\n",
              "      <td>2.586583</td>\n",
              "      <td>id_00073f8be_1</td>\n",
              "    </tr>\n",
              "    <tr>\n",
              "      <th>2</th>\n",
              "      <td>1.106511</td>\n",
              "      <td>0.452194</td>\n",
              "      <td>0.553056</td>\n",
              "      <td>0.699635</td>\n",
              "      <td>0.731798</td>\n",
              "      <td>id_00073f8be_2</td>\n",
              "    </tr>\n",
              "    <tr>\n",
              "      <th>3</th>\n",
              "      <td>1.256432</td>\n",
              "      <td>1.080847</td>\n",
              "      <td>1.151894</td>\n",
              "      <td>1.534393</td>\n",
              "      <td>1.470501</td>\n",
              "      <td>id_00073f8be_3</td>\n",
              "    </tr>\n",
              "    <tr>\n",
              "      <th>4</th>\n",
              "      <td>0.828744</td>\n",
              "      <td>0.597933</td>\n",
              "      <td>0.527194</td>\n",
              "      <td>0.854053</td>\n",
              "      <td>0.780136</td>\n",
              "      <td>id_00073f8be_4</td>\n",
              "    </tr>\n",
              "  </tbody>\n",
              "</table>\n",
              "</div>"
            ]
          },
          "metadata": {
            "tags": []
          },
          "execution_count": 51
        }
      ]
    },
    {
      "cell_type": "code",
      "metadata": {
        "trusted": true,
        "id": "DG-m3X6ijon_",
        "colab_type": "code",
        "colab": {}
      },
      "source": [
        "data_dir = '/kaggle/input/stanford-covid-vaccine/'\n",
        "sample_df = pd.read_csv(data_dir + 'sample_submission.csv')"
      ],
      "execution_count": null,
      "outputs": []
    },
    {
      "cell_type": "code",
      "metadata": {
        "trusted": true,
        "id": "ARAlJ3RyjooC",
        "colab_type": "code",
        "colab": {}
      },
      "source": [
        "preds_df.shape"
      ],
      "execution_count": null,
      "outputs": []
    },
    {
      "cell_type": "code",
      "metadata": {
        "trusted": true,
        "id": "8dc_lmvajooF",
        "colab_type": "code",
        "colab": {}
      },
      "source": [
        "# save the submission file\n",
        "submission = sample_df[['id_seqpos']].merge(preds_df, on=['id_seqpos'])\n",
        "submission.to_csv('submission1.csv', index=False)"
      ],
      "execution_count": null,
      "outputs": []
    },
    {
      "cell_type": "markdown",
      "metadata": {
        "id": "RLixUEe7wQQj",
        "colab_type": "text"
      },
      "source": [
        "# References\n",
        "https://www.kaggle.com/xhlulu/openvaccine-simple-gru-model\n",
        "\n",
        "https://www.kaggle.com/tuckerarrants/openvaccine-gru-lstm#Training\n"
      ]
    },
    {
      "cell_type": "code",
      "metadata": {
        "id": "J4Gor8pIwPFy",
        "colab_type": "code",
        "colab": {}
      },
      "source": [
        ""
      ],
      "execution_count": null,
      "outputs": []
    },
    {
      "cell_type": "code",
      "metadata": {
        "id": "CD9nY7tpwPJT",
        "colab_type": "code",
        "colab": {}
      },
      "source": [
        ""
      ],
      "execution_count": null,
      "outputs": []
    }
  ]
}